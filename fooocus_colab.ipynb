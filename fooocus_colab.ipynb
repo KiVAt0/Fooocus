{
 "cells": [
  {
   "cell_type": "code",
   "execution_count": null,
   "metadata": {
    "id": "VjYy0F2gZIPR",
    "scrolled": true
   },
   "outputs": [],
   "source": [
    "!pip install pygit2==1.12.2\n",
    "%cd /content\n",
    "!git clone https://github.com/lllyasviel/Fooocus.git\n",
    "%cd /content/Fooocus\n",
    "!python entry_with_update.py --share --always-high-vram\n",
    "\n"
   ]
  },
  {
   "cell_type": "code",
   "execution_count": null,
   "metadata": {},
   "outputs": [],
   "source": [
    "!wget -O /content/Fooocus/models/checkpoints/DucHaiten-Pony-XL-4-0.safetensors \"https://civitai.com/api/download/models/531417?&token=8c8e257bd73de3774091d5d9f9d61ca0\"\n",
    "!wget -O /content/Fooocus/models/loras/vixons-pony-Detailed-painting.safetensors  \"https://civitai.com/api/download/models/399443?&token=8c8e257bd73de3774091d5d9f9d61ca0\"\n",
    "!wget -O /content/Fooocus/models/loras/expressiveh-hentai-lora-style.safetensors \"https://civitai.com/api/download/models/382152?&token=8c8e257bd73de3774091d5d9f9d61ca0\"\n",
    "!wget -O /content/Fooocus/models/loras/detail-tweaker-xl.safetensors https://civitai.com/api/download/models/135867?type=Model&format=SafeTensor\n",
    "!wget -O /content/Fooocus/models/loras/extremely-detailed-no-trigger.safetensors \"https://civitai.com/api/download/models/383563?&token=8c8e257bd73de3774091d5d9f9d61ca0\"\n",
    "!wget -O /content/Fooocus/models/loras/Detailed_eyes.safetensors https://civitai.com/api/download/models/145907?type=Model&format=SafeTensor\n",
    "!wget -O /content/Fooocus/models/loras/all-disney-princess-xl-lora-m.safetensors https://civitai.com/api/download/models/244808?type=Model&format=SafeTensor\n",
    "!wget -O /content/Fooocus/models/loras/Age-Slider.safetensors \"https://civitai.com/api/download/models/448977?&token=8c8e257bd73de3774091d5d9f9d61ca0\"\n",
    "!wget -O /content/Fooocus/models/loras/dynamic-poses-slider-ponyxl.safetensors https://civitai.com/api/download/models/487971?type=Model&format=SafeTensor"
   ]
  },
  {
   "cell_type": "code",
   "execution_count": null,
   "metadata": {},
   "outputs": [],
   "source": []
  }
 ],
 "metadata": {
  "accelerator": "GPU",
  "colab": {
   "gpuType": "T4",
   "provenance": []
  },
  "kernelspec": {
   "display_name": "Python 3",
   "language": "python",
   "name": "python3"
  },
  "language_info": {
   "codemirror_mode": {
    "name": "ipython",
    "version": 3
   },
   "file_extension": ".py",
   "mimetype": "text/x-python",
   "name": "python",
   "nbconvert_exporter": "python",
   "pygments_lexer": "ipython3",
   "version": "3.10.12"
  },
  "widgets": {
   "application/vnd.jupyter.widget-state+json": {
    "state": {},
    "version_major": 2,
    "version_minor": 0
   }
  }
 },
 "nbformat": 4,
 "nbformat_minor": 1
}
