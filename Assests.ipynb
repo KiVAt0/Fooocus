{
  "cells": [
    {
      "cell_type": "code",
      "execution_count": null,
      "metadata": {
        "colab": {
          "background_save": true
        },
        "id": "bpBHVSvIkNjH"
      },
      "outputs": [],
      "source": [
        "!wget -O /content/Fooocus/models/checkpoints/DucHaiten-Pony-XL-4-0.safetensors \"https://civitai.com/api/download/models/531417?&token=8c8e257bd73de3774091d5d9f9d61ca0\"\n",
        "!wget -O /content/Fooocus/models/loras/vixons-pony-Detailed-painting.safetensors  \"https://civitai.com/api/download/models/399443?&token=8c8e257bd73de3774091d5d9f9d61ca0\"\n",
        "!wget -O /content/Fooocus/models/loras/expressiveh-hentai-lora-style.safetensors \"https://civitai.com/api/download/models/382152?&token=8c8e257bd73de3774091d5d9f9d61ca0\"\n",
        "!wget -O /content/Fooocus/models/loras/detail-tweaker-xl.safetensors https://civitai.com/api/download/models/135867?type=Model&format=SafeTensor\n",
        "!wget -O /content/Fooocus/models/loras/extremely-detailed-no-trigger.safetensors \"https://civitai.com/api/download/models/383563?&token=8c8e257bd73de3774091d5d9f9d61ca0\"\n",
        "!wget -O /content/Fooocus/models/loras/Detailed_eyes.safetensors https://civitai.com/api/download/models/145907?type=Model&format=SafeTensor\n",
        "!wget -O /content/Fooocus/models/loras/all-disney-princess-xl-lora-m.safetensors https://civitai.com/api/download/models/244808?type=Model&format=SafeTensor\n",
        "!wget -O /content/Fooocus/models/loras/Age-Slider.safetensors \"https://civitai.com/api/download/models/448977?&token=8c8e257bd73de3774091d5d9f9d61ca0\"\n",
        "!wget -O /content/Fooocus/models/loras/dynamic-poses-slider-ponyxl.safetensors https://civitai.com/api/download/models/487971?type=Model&format=SafeTensor"
      ]
    }
  ],
  "metadata": {
    "accelerator": "GPU",
    "colab": {
      "gpuType": "T4",
      "provenance": []
    },
    "kernelspec": {
      "display_name": "Python 3",
      "name": "python3"
    },
    "language_info": {
      "name": "python"
    }
  },
  "nbformat": 4,
  "nbformat_minor": 0
}